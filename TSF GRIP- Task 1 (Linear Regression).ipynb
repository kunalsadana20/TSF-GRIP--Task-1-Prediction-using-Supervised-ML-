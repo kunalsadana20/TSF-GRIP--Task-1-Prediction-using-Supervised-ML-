{
 "cells": [
  {
   "cell_type": "markdown",
   "id": "2e52ead5",
   "metadata": {},
   "source": [
    "## <font color=red> Problem Statement\n",
    "Predict the percentage of student based on the number of study hours using a Simple Linear Regression Model"
   ]
  },
  {
   "cell_type": "markdown",
   "id": "918fbb88",
   "metadata": {},
   "source": [
    "## <font color=red> Importing Libraries"
   ]
  },
  {
   "cell_type": "code",
   "execution_count": 1,
   "id": "0665c562",
   "metadata": {},
   "outputs": [],
   "source": [
    "# import libraries\n",
    "import pandas as pd\n",
    "import numpy as np\n",
    "import matplotlib.pyplot as plt\n",
    "import seaborn as sns"
   ]
  },
  {
   "cell_type": "code",
   "execution_count": 2,
   "id": "405655fe",
   "metadata": {},
   "outputs": [],
   "source": [
    "import warnings\n",
    "warnings.filterwarnings('ignore')"
   ]
  },
  {
   "cell_type": "markdown",
   "id": "ebd446c6",
   "metadata": {},
   "source": [
    "## <font color=red> Step 1: Reading and Understanding Data"
   ]
  },
  {
   "cell_type": "code",
   "execution_count": 3,
   "id": "88ae252a",
   "metadata": {},
   "outputs": [],
   "source": [
    "# load dataset\n",
    "scores = pd.read_csv('https://raw.githubusercontent.com/AdiPersonalWorks/Random/master/student_scores%20-%20student_scores.csv')"
   ]
  },
  {
   "cell_type": "code",
   "execution_count": 4,
   "id": "b2275cea",
   "metadata": {},
   "outputs": [
    {
     "data": {
      "text/html": [
       "<div>\n",
       "<style scoped>\n",
       "    .dataframe tbody tr th:only-of-type {\n",
       "        vertical-align: middle;\n",
       "    }\n",
       "\n",
       "    .dataframe tbody tr th {\n",
       "        vertical-align: top;\n",
       "    }\n",
       "\n",
       "    .dataframe thead th {\n",
       "        text-align: right;\n",
       "    }\n",
       "</style>\n",
       "<table border=\"1\" class=\"dataframe\">\n",
       "  <thead>\n",
       "    <tr style=\"text-align: right;\">\n",
       "      <th></th>\n",
       "      <th>Hours</th>\n",
       "      <th>Scores</th>\n",
       "    </tr>\n",
       "  </thead>\n",
       "  <tbody>\n",
       "    <tr>\n",
       "      <th>0</th>\n",
       "      <td>2.5</td>\n",
       "      <td>21</td>\n",
       "    </tr>\n",
       "    <tr>\n",
       "      <th>1</th>\n",
       "      <td>5.1</td>\n",
       "      <td>47</td>\n",
       "    </tr>\n",
       "    <tr>\n",
       "      <th>2</th>\n",
       "      <td>3.2</td>\n",
       "      <td>27</td>\n",
       "    </tr>\n",
       "    <tr>\n",
       "      <th>3</th>\n",
       "      <td>8.5</td>\n",
       "      <td>75</td>\n",
       "    </tr>\n",
       "    <tr>\n",
       "      <th>4</th>\n",
       "      <td>3.5</td>\n",
       "      <td>30</td>\n",
       "    </tr>\n",
       "  </tbody>\n",
       "</table>\n",
       "</div>"
      ],
      "text/plain": [
       "   Hours  Scores\n",
       "0    2.5      21\n",
       "1    5.1      47\n",
       "2    3.2      27\n",
       "3    8.5      75\n",
       "4    3.5      30"
      ]
     },
     "execution_count": 4,
     "metadata": {},
     "output_type": "execute_result"
    }
   ],
   "source": [
    "# display top 5 rows\n",
    "scores.head()"
   ]
  },
  {
   "cell_type": "code",
   "execution_count": 5,
   "id": "e77c610d",
   "metadata": {},
   "outputs": [
    {
     "data": {
      "text/plain": [
       "(25, 2)"
      ]
     },
     "execution_count": 5,
     "metadata": {},
     "output_type": "execute_result"
    }
   ],
   "source": [
    "# shape of df\n",
    "scores.shape"
   ]
  },
  {
   "cell_type": "code",
   "execution_count": 6,
   "id": "129a1f22",
   "metadata": {},
   "outputs": [
    {
     "name": "stdout",
     "output_type": "stream",
     "text": [
      "<class 'pandas.core.frame.DataFrame'>\n",
      "RangeIndex: 25 entries, 0 to 24\n",
      "Data columns (total 2 columns):\n",
      " #   Column  Non-Null Count  Dtype  \n",
      "---  ------  --------------  -----  \n",
      " 0   Hours   25 non-null     float64\n",
      " 1   Scores  25 non-null     int64  \n",
      "dtypes: float64(1), int64(1)\n",
      "memory usage: 528.0 bytes\n"
     ]
    }
   ],
   "source": [
    "# information about df\n",
    "scores.info()"
   ]
  },
  {
   "cell_type": "code",
   "execution_count": 7,
   "id": "06097249",
   "metadata": {},
   "outputs": [
    {
     "data": {
      "text/html": [
       "<div>\n",
       "<style scoped>\n",
       "    .dataframe tbody tr th:only-of-type {\n",
       "        vertical-align: middle;\n",
       "    }\n",
       "\n",
       "    .dataframe tbody tr th {\n",
       "        vertical-align: top;\n",
       "    }\n",
       "\n",
       "    .dataframe thead th {\n",
       "        text-align: right;\n",
       "    }\n",
       "</style>\n",
       "<table border=\"1\" class=\"dataframe\">\n",
       "  <thead>\n",
       "    <tr style=\"text-align: right;\">\n",
       "      <th></th>\n",
       "      <th>Hours</th>\n",
       "      <th>Scores</th>\n",
       "    </tr>\n",
       "  </thead>\n",
       "  <tbody>\n",
       "    <tr>\n",
       "      <th>count</th>\n",
       "      <td>25.000000</td>\n",
       "      <td>25.000000</td>\n",
       "    </tr>\n",
       "    <tr>\n",
       "      <th>mean</th>\n",
       "      <td>5.012000</td>\n",
       "      <td>51.480000</td>\n",
       "    </tr>\n",
       "    <tr>\n",
       "      <th>std</th>\n",
       "      <td>2.525094</td>\n",
       "      <td>25.286887</td>\n",
       "    </tr>\n",
       "    <tr>\n",
       "      <th>min</th>\n",
       "      <td>1.100000</td>\n",
       "      <td>17.000000</td>\n",
       "    </tr>\n",
       "    <tr>\n",
       "      <th>25%</th>\n",
       "      <td>2.700000</td>\n",
       "      <td>30.000000</td>\n",
       "    </tr>\n",
       "    <tr>\n",
       "      <th>50%</th>\n",
       "      <td>4.800000</td>\n",
       "      <td>47.000000</td>\n",
       "    </tr>\n",
       "    <tr>\n",
       "      <th>75%</th>\n",
       "      <td>7.400000</td>\n",
       "      <td>75.000000</td>\n",
       "    </tr>\n",
       "    <tr>\n",
       "      <th>max</th>\n",
       "      <td>9.200000</td>\n",
       "      <td>95.000000</td>\n",
       "    </tr>\n",
       "  </tbody>\n",
       "</table>\n",
       "</div>"
      ],
      "text/plain": [
       "           Hours     Scores\n",
       "count  25.000000  25.000000\n",
       "mean    5.012000  51.480000\n",
       "std     2.525094  25.286887\n",
       "min     1.100000  17.000000\n",
       "25%     2.700000  30.000000\n",
       "50%     4.800000  47.000000\n",
       "75%     7.400000  75.000000\n",
       "max     9.200000  95.000000"
      ]
     },
     "execution_count": 7,
     "metadata": {},
     "output_type": "execute_result"
    }
   ],
   "source": [
    "# statisitical analysis of numeric columns\n",
    "scores.describe()"
   ]
  },
  {
   "cell_type": "markdown",
   "id": "4604a595",
   "metadata": {},
   "source": [
    "> **Insights:**\n",
    "- There are 25 rows and 2 columns\n",
    "- Data type of columns: 1 float type and 1 int type"
   ]
  },
  {
   "cell_type": "markdown",
   "id": "16a433d4",
   "metadata": {},
   "source": [
    "## <font color=red> Step 2: Data Cleaning"
   ]
  },
  {
   "cell_type": "markdown",
   "id": "9cab0cb1",
   "metadata": {},
   "source": [
    "#### <font color=blue> NULL values"
   ]
  },
  {
   "cell_type": "code",
   "execution_count": 8,
   "id": "17dd1ff6",
   "metadata": {},
   "outputs": [
    {
     "data": {
      "text/plain": [
       "Hours     0\n",
       "Scores    0\n",
       "dtype: int64"
      ]
     },
     "execution_count": 8,
     "metadata": {},
     "output_type": "execute_result"
    }
   ],
   "source": [
    "# check for null values\n",
    "scores.isnull().sum()"
   ]
  },
  {
   "cell_type": "markdown",
   "id": "8b1f70cf",
   "metadata": {},
   "source": [
    "> **Insights:**\n",
    "- No NULL values present "
   ]
  },
  {
   "cell_type": "markdown",
   "id": "c36fa889",
   "metadata": {},
   "source": [
    "#### <font color=blue> Outliers"
   ]
  },
  {
   "cell_type": "code",
   "execution_count": 9,
   "id": "e225110d",
   "metadata": {
    "scrolled": true
   },
   "outputs": [
    {
     "data": {
      "image/png": "[encoded data removed]",
      "text/plain": [
       "<Figure size 1440x360 with 2 Axes>"
      ]
     },
     "metadata": {
      "needs_background": "light"
     },
     "output_type": "display_data"
    }
   ],
   "source": [
    "# plot boxplot to check for outliers\n",
    "\n",
    "plt.figure(figsize=(20,5))\n",
    "for i,v in enumerate(scores.columns):\n",
    "    plt.subplot(1,2,i+1)\n",
    "    sns.boxplot(scores[v])\n",
    "    plt.title(f'Boxplot of {v}', color='g')"
   ]
  },
  {
   "cell_type": "markdown",
   "id": "64c52ee5",
   "metadata": {},
   "source": [
    "> **Insights:**\n",
    "- No outliers present"
   ]
  },
  {
   "cell_type": "markdown",
   "id": "27a26e5f",
   "metadata": {},
   "source": [
    "## <font color=red> Step 3: Data Visualisation"
   ]
  },
  {
   "cell_type": "code",
   "execution_count": 10,
   "id": "92a0feed",
   "metadata": {},
   "outputs": [
    {
     "data": {
      "image/png": "[encoded data removed]",
      "text/plain": [
       "<Figure size 1224x360 with 2 Axes>"
      ]
     },
     "metadata": {
      "needs_background": "light"
     },
     "output_type": "display_data"
    }
   ],
   "source": [
    "plt.figure(figsize=(17,5))\n",
    "\n",
    "sns.set_style('darkgrid')\n",
    "\n",
    "# line plot\n",
    "plt.subplot(1,2,1)\n",
    "plt.title('Scores vs Hours', color='g')\n",
    "sns.scatterplot(data=scores, x='Hours', y='Scores')\n",
    "\n",
    "# reg plot\n",
    "plt.subplot(1,2,2)\n",
    "plt.title('Scores vs Hours', color='g')\n",
    "sns.regplot(data=scores, x='Hours', y='Scores')\n",
    "plt.show()"
   ]
  },
  {
   "cell_type": "markdown",
   "id": "36e2bd5e",
   "metadata": {},
   "source": [
    "> **Insights:**\n",
    "- We can clearly see there is a linear relation between the target variable (i.e. Scores) and independent variable (i.e. Hours)\n",
    "- Thus we can go ahead with building a Simple Linear Regression Model"
   ]
  },
  {
   "cell_type": "markdown",
   "id": "70a8c322",
   "metadata": {},
   "source": [
    "## <font color=red> Step 4: Data Preparation"
   ]
  },
  {
   "cell_type": "markdown",
   "id": "5b0462d6",
   "metadata": {},
   "source": [
    "### <font color=blue> Split data into X and y\n",
    "We divide the data into \n",
    "- Target variable('Scores') denoted by y \n",
    "- Independent variable('Hours') denoted by X"
   ]
  },
  {
   "cell_type": "code",
   "execution_count": 11,
   "id": "9bc926ef",
   "metadata": {},
   "outputs": [],
   "source": [
    "# divide data into X and y\n",
    "X = scores['Hours']\n",
    "y = scores['Scores']"
   ]
  },
  {
   "cell_type": "markdown",
   "id": "6b9dadfa",
   "metadata": {},
   "source": [
    "### <font color=blue> Divide into train and test data\n",
    "We divide the data into train and test data using Scikit-Learn's train_test_split method in the ratio 80:20"
   ]
  },
  {
   "cell_type": "code",
   "execution_count": 12,
   "id": "7b3ed3f8",
   "metadata": {},
   "outputs": [],
   "source": [
    "# dividing into test and train data set\n",
    "\n",
    "# import library\n",
    "from sklearn.model_selection import train_test_split\n",
    "\n",
    "# test_train_split\n",
    "X_train, X_test, y_train, y_test = train_test_split(X, y, test_size=0.2, random_state=0)"
   ]
  },
  {
   "cell_type": "code",
   "execution_count": 13,
   "id": "93c15c26",
   "metadata": {},
   "outputs": [],
   "source": [
    "# converting into 2-D array\n",
    "\n",
    "X_train = X_train.values.reshape(-1,1)\n",
    "X_test = X_test.values.reshape(-1,1)"
   ]
  },
  {
   "cell_type": "markdown",
   "id": "a72d9bcf",
   "metadata": {},
   "source": [
    "## <font color=red> Step 5: Building the Model"
   ]
  },
  {
   "cell_type": "markdown",
   "id": "afaf201f",
   "metadata": {},
   "source": [
    "### <font color=blue> Training the Algorithm"
   ]
  },
  {
   "cell_type": "code",
   "execution_count": 14,
   "id": "85f446a5",
   "metadata": {},
   "outputs": [
    {
     "data": {
      "text/plain": [
       "LinearRegression()"
      ]
     },
     "execution_count": 14,
     "metadata": {},
     "output_type": "execute_result"
    }
   ],
   "source": [
    "# import library\n",
    "from sklearn.linear_model import LinearRegression\n",
    "\n",
    "# create object \n",
    "lr = LinearRegression()\n",
    "\n",
    "# fitting the model\n",
    "lr.fit(X_train, y_train)"
   ]
  },
  {
   "cell_type": "code",
   "execution_count": 15,
   "id": "458b8671",
   "metadata": {},
   "outputs": [
    {
     "name": "stdout",
     "output_type": "stream",
     "text": [
      "[9.91065648] 2.018160041434662\n"
     ]
    }
   ],
   "source": [
    "print(lr.coef_, lr.intercept_)"
   ]
  },
  {
   "cell_type": "markdown",
   "id": "c76b1b48",
   "metadata": {},
   "source": [
    "The equation we get is:\n",
    "\n",
    "$ Scores = 9.91*Hours + 2.01 $"
   ]
  },
  {
   "cell_type": "code",
   "execution_count": 16,
   "id": "b53b271c",
   "metadata": {},
   "outputs": [
    {
     "data": {
      "image/png": "[encoded data removed]",
      "text/plain": [
       "<Figure size 432x288 with 1 Axes>"
      ]
     },
     "metadata": {},
     "output_type": "display_data"
    }
   ],
   "source": [
    "# plotting the regression line\n",
    "line = lr.coef_*X_train + lr.intercept_\n",
    "\n",
    "sns.scatterplot(X_train[:,0], y_train)\n",
    "sns.lineplot(X_train[:,0], line[:,0], color='r')\n",
    "plt.xlabel('Hours')\n",
    "plt.title('Train Data', color='g')\n",
    "plt.show()"
   ]
  },
  {
   "cell_type": "markdown",
   "id": "ea078668",
   "metadata": {},
   "source": [
    "## <font color=red> Step 6: Residual Analysis"
   ]
  },
  {
   "cell_type": "markdown",
   "id": "c56d631c",
   "metadata": {},
   "source": [
    "### <font color=blue>Distribution of the error terms\n",
    "We need to check if the error terms are also normally distributed (which is infact, one of the major assumptions of linear regression), let us plot the histogram of the error terms and qqplot and see what it looks like."
   ]
  },
  {
   "cell_type": "code",
   "execution_count": 17,
   "id": "f62a0a7d",
   "metadata": {},
   "outputs": [],
   "source": [
    "# creating y_pred using the \n",
    "y_train_pred = lr.predict(X_train)\n",
    "\n",
    "# creating residual array\n",
    "res = y_train - y_train_pred"
   ]
  },
  {
   "cell_type": "code",
   "execution_count": 18,
   "id": "37e447e5",
   "metadata": {
    "scrolled": false
   },
   "outputs": [
    {
     "data": {
      "image/png": "[encoded data removed]",
      "text/plain": [
       "<Figure size 432x288 with 1 Axes>"
      ]
     },
     "metadata": {},
     "output_type": "display_data"
    }
   ],
   "source": [
    "# plot the histogram for residuals to check for type of distribution\n",
    "\n",
    "sns.distplot(res)\n",
    "plt.title('Checking for normal distribution', color='g')\n",
    "plt.xlabel('Residuals')\n",
    "plt.show()"
   ]
  },
  {
   "cell_type": "markdown",
   "id": "9b642d14",
   "metadata": {},
   "source": [
    "> **Insights:**\n",
    "The residuals are roughly following normal distribution "
   ]
  },
  {
   "cell_type": "code",
   "execution_count": 19,
   "id": "88123c1c",
   "metadata": {},
   "outputs": [
    {
     "data": {
      "image/png": "[encoded data removed]",
      "text/plain": [
       "<Figure size 432x288 with 1 Axes>"
      ]
     },
     "metadata": {},
     "output_type": "display_data"
    }
   ],
   "source": [
    "import statsmodels.api as sm\n",
    "import scipy.stats as stats\n",
    "\n",
    "sm.qqplot(data=res,line='45', fit=True, dist=stats.norm)\n",
    "plt.title('QQ plot', color='g')\n",
    "plt.show()"
   ]
  },
  {
   "cell_type": "markdown",
   "id": "56438a5c",
   "metadata": {},
   "source": [
    "> **Insights:**\n",
    "    We can see the residuals roughly follow normal distribution"
   ]
  },
  {
   "cell_type": "markdown",
   "id": "571d3d36",
   "metadata": {},
   "source": [
    "### <font color=blue> Homoscedasticity\n",
    "We need to check if residuals have constant variance at every level of x"
   ]
  },
  {
   "cell_type": "code",
   "execution_count": 20,
   "id": "9f2067d0",
   "metadata": {},
   "outputs": [
    {
     "data": {
      "image/png": "[encoded data removed]",
      "text/plain": [
       "<Figure size 432x288 with 1 Axes>"
      ]
     },
     "metadata": {},
     "output_type": "display_data"
    }
   ],
   "source": [
    "# plot a scatterplot between residuals vs y_pred\n",
    "\n",
    "sns.regplot(x= y_train_pred, y=res, line_kws={'color':'red'})\n",
    "plt.title('Checking for Homoscedasticity', color='g')\n",
    "plt.ylabel('Residuals')\n",
    "plt.xlabel('Predicted value')\n",
    "plt.show()"
   ]
  },
  {
   "cell_type": "markdown",
   "id": "63d1e1fa",
   "metadata": {},
   "source": [
    "> **Insights:**\n",
    "We can see almost constant variance of residuals here "
   ]
  },
  {
   "cell_type": "markdown",
   "id": "18c6b1eb",
   "metadata": {},
   "source": [
    "## <font color=red> Step 7: Making predictions"
   ]
  },
  {
   "cell_type": "code",
   "execution_count": 21,
   "id": "2fa0dd80",
   "metadata": {},
   "outputs": [],
   "source": [
    "# making predictions on the test data\n",
    "y_test_pred = lr.predict(X_test)"
   ]
  },
  {
   "cell_type": "code",
   "execution_count": 22,
   "id": "fd4b047b",
   "metadata": {},
   "outputs": [
    {
     "data": {
      "text/html": [
       "<div>\n",
       "<style scoped>\n",
       "    .dataframe tbody tr th:only-of-type {\n",
       "        vertical-align: middle;\n",
       "    }\n",
       "\n",
       "    .dataframe tbody tr th {\n",
       "        vertical-align: top;\n",
       "    }\n",
       "\n",
       "    .dataframe thead th {\n",
       "        text-align: right;\n",
       "    }\n",
       "</style>\n",
       "<table border=\"1\" class=\"dataframe\">\n",
       "  <thead>\n",
       "    <tr style=\"text-align: right;\">\n",
       "      <th></th>\n",
       "      <th>Actual</th>\n",
       "      <th>Predicted</th>\n",
       "    </tr>\n",
       "  </thead>\n",
       "  <tbody>\n",
       "    <tr>\n",
       "      <th>5</th>\n",
       "      <td>20</td>\n",
       "      <td>16.884145</td>\n",
       "    </tr>\n",
       "    <tr>\n",
       "      <th>2</th>\n",
       "      <td>27</td>\n",
       "      <td>33.732261</td>\n",
       "    </tr>\n",
       "    <tr>\n",
       "      <th>19</th>\n",
       "      <td>69</td>\n",
       "      <td>75.357018</td>\n",
       "    </tr>\n",
       "    <tr>\n",
       "      <th>16</th>\n",
       "      <td>30</td>\n",
       "      <td>26.794801</td>\n",
       "    </tr>\n",
       "    <tr>\n",
       "      <th>11</th>\n",
       "      <td>62</td>\n",
       "      <td>60.491033</td>\n",
       "    </tr>\n",
       "  </tbody>\n",
       "</table>\n",
       "</div>"
      ],
      "text/plain": [
       "    Actual  Predicted\n",
       "5       20  16.884145\n",
       "2       27  33.732261\n",
       "19      69  75.357018\n",
       "16      30  26.794801\n",
       "11      62  60.491033"
      ]
     },
     "execution_count": 22,
     "metadata": {},
     "output_type": "execute_result"
    }
   ],
   "source": [
    "# comparing actual and predicted on the test data\n",
    "df = pd.DataFrame({'Actual':y_test, 'Predicted':y_test_pred})\n",
    "df"
   ]
  },
  {
   "cell_type": "code",
   "execution_count": 23,
   "id": "39c36a20",
   "metadata": {},
   "outputs": [
    {
     "name": "stdout",
     "output_type": "stream",
     "text": [
      "Predicted score for 9.25 hours: 93.69173248737539\n"
     ]
    }
   ],
   "source": [
    "# making prediction on the value of 9.25 hours\n",
    "hours = np.array(9.25)\n",
    "pred = lr.predict(hours.reshape(-1,1))\n",
    "print('Predicted score for 9.25 hours:',pred[0])"
   ]
  },
  {
   "cell_type": "markdown",
   "id": "47659d6d",
   "metadata": {},
   "source": [
    "## <font color=red> Step 8: Evaluation"
   ]
  },
  {
   "cell_type": "markdown",
   "id": "3e6401e5",
   "metadata": {},
   "source": [
    "### <font color=blue> RMSE and Mean Absolute Error"
   ]
  },
  {
   "cell_type": "code",
   "execution_count": 25,
   "id": "50bde1f4",
   "metadata": {
    "scrolled": false
   },
   "outputs": [
    {
     "name": "stdout",
     "output_type": "stream",
     "text": [
      "Root Mean Squared Error for train data: 5.56\n",
      "Root Mean Squared Error for test data: 4.65\n",
      "Mean Absolute Error for train data: 5.19\n",
      "Mean Absolute Error for test data: 4.18\n"
     ]
    }
   ],
   "source": [
    "# import library\n",
    "from sklearn.metrics import mean_squared_error\n",
    "from sklearn.metrics import mean_absolute_error\n",
    "\n",
    "print('Root Mean Squared Error for train data:', round(np.sqrt(mean_squared_error(y_train, y_train_pred)), 2))\n",
    "print('Root Mean Squared Error for test data:', round(np.sqrt(mean_squared_error(y_test, y_test_pred)), 2))\n",
    "\n",
    "print('Mean Absolute Error for train data:', round(mean_absolute_error(y_train, y_train_pred), 2))\n",
    "print('Mean Absolute Error for test data:', round(mean_absolute_error(y_test, y_test_pred), 2))"
   ]
  },
  {
   "cell_type": "markdown",
   "id": "211c3d37",
   "metadata": {},
   "source": [
    "### <font color=blue> R-squared score"
   ]
  },
  {
   "cell_type": "code",
   "execution_count": 24,
   "id": "10d7fd17",
   "metadata": {
    "scrolled": true
   },
   "outputs": [
    {
     "name": "stdout",
     "output_type": "stream",
     "text": [
      "R2 score for train data: 0.95\n",
      "R2 score for test data: 0.95\n"
     ]
    }
   ],
   "source": [
    "# import library\n",
    "from sklearn.metrics import r2_score\n",
    "\n",
    "# calculate r2_score\n",
    "r2_train = r2_score(y_train, y_train_pred)\n",
    "r2_test = r2_score(y_test, y_test_pred)\n",
    "\n",
    "# display the scores\n",
    "print('R2 score for train data:',round(r2_train,2))\n",
    "print('R2 score for test data:',round(r2_test,2))"
   ]
  },
  {
   "cell_type": "markdown",
   "id": "891268af",
   "metadata": {},
   "source": [
    "### <font color=blue> Visualising fit"
   ]
  },
  {
   "cell_type": "code",
   "execution_count": 26,
   "id": "fbccdd1d",
   "metadata": {},
   "outputs": [
    {
     "data": {
      "image/png": "[encoded data removed]",
      "text/plain": [
       "<Figure size 432x288 with 1 Axes>"
      ]
     },
     "metadata": {},
     "output_type": "display_data"
    }
   ],
   "source": [
    "# plotting the regression line\n",
    "line = lr.coef_*X + lr.intercept_\n",
    "\n",
    "sns.scatterplot(X, y)\n",
    "sns.lineplot(X, line, color='r')\n",
    "plt.title('Actual vs Predicted', color='g')\n",
    "plt.show()"
   ]
  }
 ],
 "metadata": {
  "kernelspec": {
   "display_name": "Python 3 (ipykernel)",
   "language": "python",
   "name": "python3"
  },
  "language_info": {
   "codemirror_mode": {
    "name": "ipython",
    "version": 3
   },
   "file_extension": ".py",
   "mimetype": "text/x-python",
   "name": "python",
   "nbconvert_exporter": "python",
   "pygments_lexer": "ipython3",
   "version": "3.9.7"
  }
 },
 "nbformat": 4,
 "nbformat_minor": 5
}
